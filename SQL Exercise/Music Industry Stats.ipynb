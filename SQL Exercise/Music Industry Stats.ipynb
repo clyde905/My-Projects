{
 "cells": [
  {
   "cell_type": "code",
   "execution_count": 2,
   "metadata": {},
   "outputs": [],
   "source": [
    "import numpy as np\n",
    "import pandas as pd\n",
    "import sqlite3 as sql\n",
    "import requests\n",
    "import os\n",
    "import shutil\n",
    "import seaborn as sns\n",
    "import matplotlib.pyplot as plt"
   ]
  },
  {
   "cell_type": "code",
   "execution_count": 3,
   "metadata": {},
   "outputs": [],
   "source": [
    "def download_file():\n",
    "    global dump\n",
    "    url = \"https://github.com/lerocha/chinook-database/raw/master/ChinookDatabase/DataSources/Chinook_Sqlite.sqlite\"\n",
    "    dump = requests.get(url, stream=True).raw\n",
    "\n",
    "'''\n",
    "Used to save the downloaded Chinook Database into an sqlite database file.\n",
    "'''\n",
    "def save_file():\n",
    "    global dump\n",
    "    location = os.path.relpath(\"exampledb.sqlite\")\n",
    "    with open(\"exampledb.sqlite\", 'wb') as location:\n",
    "        shutil.copyfileobj(dump, location)\n",
    "    del dump\n",
    "\"\"\"\n",
    "This code snippet downloads the Chinook database, connects to it, and prepares for queries to be executed.\n",
    "\"\"\"\n",
    "# Grabbing copy of databaseR\n",
    "download_file()\n",
    "# Saving copy of database to a local file\n",
    "save_file()\n",
    "# Create a connection object that represents a database    \n",
    "conn = sql.connect(\"exampledb.sqlite\")\n",
    "# Once the connection to the database is opened, we create a Cursor object to execute queries\n",
    "c = conn.cursor()"
   ]
  },
  {
   "cell_type": "code",
   "execution_count": 4,
   "metadata": {},
   "outputs": [],
   "source": [
    "q3= c.execute('''/*  Want to look at 4 things:\n",
    "                        1. Total number of customers, \n",
    "                        2. Total value of sales\n",
    "                        3. Average value of sales per cusomer\n",
    "                        4. Average order value\n",
    "                     Across all countries in the database*/\n",
    "WITH countries_renamed AS (\n",
    "SELECT\n",
    "    i.CustomerId,\n",
    "    i.total price_per_item,\n",
    "    i.InvoiceId invoices,\n",
    "    CASE --Countries with only one sale gets placed in other\n",
    "        WHEN (SELECT COUNT(*)\n",
    "              FROM Customer\n",
    "              WHERE country = c.country) = 1 THEN \"Other\"\n",
    "        ELSE c.country\n",
    "    END\n",
    "    AS country\n",
    "FROM Invoice i\n",
    "INNER JOIN customer c ON c.CustomerId  = i.CustomerId\n",
    ")\n",
    "\n",
    "SELECT /* Create variables to determine business stats*/\n",
    "country,\n",
    "total_customers,\n",
    "total_sales,\n",
    "sales_per_cust,\n",
    "sales_per_purchase\n",
    "FROM\n",
    "(\n",
    "SELECT \n",
    "country,\n",
    "COUNT(DISTINCT cr.CustomerId) total_customers, -- calculates total customers\n",
    "ROUND(SUM(price_per_item),2) total_sales, -- calculates total sales\n",
    "ROUND(SUM(price_per_item) / COUNT(DISTINCT CustomerId),2) sales_per_cust, -- finds sales per customer\n",
    "ROUND(SUM(price_per_item) / COUNT(DISTINCT invoices),2) sales_per_purchase, --finds sales per purchase\n",
    "CASE\n",
    "    WHEN cr.country = \"Other\" THEN 1 --To ensure Other label is at bottom of table\n",
    "    ELSE 0\n",
    "    END\n",
    "    AS sort_index\n",
    "FROM countries_renamed cr\n",
    "GROUP BY country\n",
    "ORDER BY sort_index ASC, total_sales DESC); --sort by ascending index, descending sales''')\n",
    "df = pd.DataFrame(c.fetchall())"
   ]
  },
  {
   "cell_type": "code",
   "execution_count": 5,
   "metadata": {},
   "outputs": [
    {
     "data": {
      "text/html": [
       "<div>\n",
       "<style scoped>\n",
       "    .dataframe tbody tr th:only-of-type {\n",
       "        vertical-align: middle;\n",
       "    }\n",
       "\n",
       "    .dataframe tbody tr th {\n",
       "        vertical-align: top;\n",
       "    }\n",
       "\n",
       "    .dataframe thead th {\n",
       "        text-align: right;\n",
       "    }\n",
       "</style>\n",
       "<table border=\"1\" class=\"dataframe\">\n",
       "  <thead>\n",
       "    <tr style=\"text-align: right;\">\n",
       "      <th></th>\n",
       "      <th>Total Customers</th>\n",
       "      <th>total_sales</th>\n",
       "      <th>sales_per_cust</th>\n",
       "      <th>sales_per_purchase</th>\n",
       "    </tr>\n",
       "    <tr>\n",
       "      <th>Country</th>\n",
       "      <th></th>\n",
       "      <th></th>\n",
       "      <th></th>\n",
       "      <th></th>\n",
       "    </tr>\n",
       "  </thead>\n",
       "  <tbody>\n",
       "    <tr>\n",
       "      <td>USA</td>\n",
       "      <td>13</td>\n",
       "      <td>523.06</td>\n",
       "      <td>40.24</td>\n",
       "      <td>5.75</td>\n",
       "    </tr>\n",
       "    <tr>\n",
       "      <td>Canada</td>\n",
       "      <td>8</td>\n",
       "      <td>303.96</td>\n",
       "      <td>37.99</td>\n",
       "      <td>5.43</td>\n",
       "    </tr>\n",
       "    <tr>\n",
       "      <td>France</td>\n",
       "      <td>5</td>\n",
       "      <td>195.10</td>\n",
       "      <td>39.02</td>\n",
       "      <td>5.57</td>\n",
       "    </tr>\n",
       "    <tr>\n",
       "      <td>Brazil</td>\n",
       "      <td>5</td>\n",
       "      <td>190.10</td>\n",
       "      <td>38.02</td>\n",
       "      <td>5.43</td>\n",
       "    </tr>\n",
       "    <tr>\n",
       "      <td>Germany</td>\n",
       "      <td>4</td>\n",
       "      <td>156.48</td>\n",
       "      <td>39.12</td>\n",
       "      <td>5.59</td>\n",
       "    </tr>\n",
       "  </tbody>\n",
       "</table>\n",
       "</div>"
      ],
      "text/plain": [
       "         Total Customers  total_sales  sales_per_cust  sales_per_purchase\n",
       "Country                                                                  \n",
       "USA                   13       523.06           40.24                5.75\n",
       "Canada                 8       303.96           37.99                5.43\n",
       "France                 5       195.10           39.02                5.57\n",
       "Brazil                 5       190.10           38.02                5.43\n",
       "Germany                4       156.48           39.12                5.59"
      ]
     },
     "execution_count": 5,
     "metadata": {},
     "output_type": "execute_result"
    }
   ],
   "source": [
    "df.rename(columns={0:'Country', 1:'Total Customers', 2:'total_sales', 3:'sales_per_cust', \\\n",
    "                   4:'sales_per_purchase'}, inplace=True)\n",
    "df.set_index('Country', inplace=True)\n",
    "df.head()"
   ]
  },
  {
   "cell_type": "code",
   "execution_count": 6,
   "metadata": {},
   "outputs": [
    {
     "data": {
      "text/plain": [
       "(array([0, 1, 2, 3, 4, 5, 6, 7, 8, 9]), <a list of 10 Text xticklabel objects>)"
      ]
     },
     "execution_count": 6,
     "metadata": {},
     "output_type": "execute_result"
    },
    {
     "data": {
      "image/png": "[encoded data removed]",
      "text/plain": [
       "<Figure size 432x288 with 1 Axes>"
      ]
     },
     "metadata": {
      "needs_background": "light"
     },
     "output_type": "display_data"
    }
   ],
   "source": [
    "sns.barplot(x=df.index, y='Total Customers', data=df).set_title('Total Customers per Country')\n",
    "plt.xticks(rotation=90)"
   ]
  },
  {
   "cell_type": "code",
   "execution_count": 7,
   "metadata": {},
   "outputs": [
    {
     "data": {
      "text/html": [
       "<div>\n",
       "<style scoped>\n",
       "    .dataframe tbody tr th:only-of-type {\n",
       "        vertical-align: middle;\n",
       "    }\n",
       "\n",
       "    .dataframe tbody tr th {\n",
       "        vertical-align: top;\n",
       "    }\n",
       "\n",
       "    .dataframe thead th {\n",
       "        text-align: right;\n",
       "    }\n",
       "</style>\n",
       "<table border=\"1\" class=\"dataframe\">\n",
       "  <thead>\n",
       "    <tr style=\"text-align: right;\">\n",
       "      <th></th>\n",
       "      <th>Total Customers</th>\n",
       "      <th>total_sales</th>\n",
       "      <th>sales_per_cust</th>\n",
       "      <th>sales_per_purchase</th>\n",
       "      <th>Customer Sales %</th>\n",
       "    </tr>\n",
       "    <tr>\n",
       "      <th>Country</th>\n",
       "      <th></th>\n",
       "      <th></th>\n",
       "      <th></th>\n",
       "      <th></th>\n",
       "      <th></th>\n",
       "    </tr>\n",
       "  </thead>\n",
       "  <tbody>\n",
       "    <tr>\n",
       "      <td>USA</td>\n",
       "      <td>13</td>\n",
       "      <td>523.06</td>\n",
       "      <td>40.24</td>\n",
       "      <td>5.75</td>\n",
       "      <td>22.46</td>\n",
       "    </tr>\n",
       "    <tr>\n",
       "      <td>Canada</td>\n",
       "      <td>8</td>\n",
       "      <td>303.96</td>\n",
       "      <td>37.99</td>\n",
       "      <td>5.43</td>\n",
       "      <td>13.05</td>\n",
       "    </tr>\n",
       "    <tr>\n",
       "      <td>France</td>\n",
       "      <td>5</td>\n",
       "      <td>195.10</td>\n",
       "      <td>39.02</td>\n",
       "      <td>5.57</td>\n",
       "      <td>8.38</td>\n",
       "    </tr>\n",
       "    <tr>\n",
       "      <td>Brazil</td>\n",
       "      <td>5</td>\n",
       "      <td>190.10</td>\n",
       "      <td>38.02</td>\n",
       "      <td>5.43</td>\n",
       "      <td>8.16</td>\n",
       "    </tr>\n",
       "    <tr>\n",
       "      <td>Germany</td>\n",
       "      <td>4</td>\n",
       "      <td>156.48</td>\n",
       "      <td>39.12</td>\n",
       "      <td>5.59</td>\n",
       "      <td>6.72</td>\n",
       "    </tr>\n",
       "  </tbody>\n",
       "</table>\n",
       "</div>"
      ],
      "text/plain": [
       "         Total Customers  total_sales  sales_per_cust  sales_per_purchase  \\\n",
       "Country                                                                     \n",
       "USA                   13       523.06           40.24                5.75   \n",
       "Canada                 8       303.96           37.99                5.43   \n",
       "France                 5       195.10           39.02                5.57   \n",
       "Brazil                 5       190.10           38.02                5.43   \n",
       "Germany                4       156.48           39.12                5.59   \n",
       "\n",
       "         Customer Sales %  \n",
       "Country                    \n",
       "USA                 22.46  \n",
       "Canada              13.05  \n",
       "France               8.38  \n",
       "Brazil               8.16  \n",
       "Germany              6.72  "
      ]
     },
     "execution_count": 7,
     "metadata": {},
     "output_type": "execute_result"
    }
   ],
   "source": [
    "df['Customer Sales %'] = round((df['total_sales']/sum(df['total_sales']))*100,2)\n",
    "df.head()"
   ]
  },
  {
   "cell_type": "code",
   "execution_count": 8,
   "metadata": {
    "scrolled": true
   },
   "outputs": [
    {
     "data": {
      "text/plain": [
       "<matplotlib.axes._subplots.AxesSubplot at 0x243a8f84948>"
      ]
     },
     "execution_count": 8,
     "metadata": {},
     "output_type": "execute_result"
    },
    {
     "data": {
      "image/png": "[encoded data removed]",
      "text/plain": [
       "<Figure size 432x288 with 1 Axes>"
      ]
     },
     "metadata": {
      "needs_background": "light"
     },
     "output_type": "display_data"
    }
   ],
   "source": [
    "df.plot(y=['Total Customers', 'Customer Sales %'], kind=\"bar\", title='Number of customers and total sales (%)')"
   ]
  },
  {
   "cell_type": "code",
   "execution_count": 9,
   "metadata": {},
   "outputs": [
    {
     "data": {
      "text/plain": [
       "<matplotlib.lines.Line2D at 0x243a903e808>"
      ]
     },
     "execution_count": 9,
     "metadata": {},
     "output_type": "execute_result"
    },
    {
     "data": {
      "image/png": "[encoded data removed]",
      "text/plain": [
       "<Figure size 432x288 with 1 Axes>"
      ]
     },
     "metadata": {
      "needs_background": "light"
     },
     "output_type": "display_data"
    }
   ],
   "source": [
    "avg_order = df[\"sales_per_purchase\"].copy()\n",
    "avg_order = ((avg_order - avg_order.mean()) / avg_order.mean())*100\n",
    "sns.barplot(x=df.index, y=avg_order).set_title(\"Avg. order value diff. from mean (%)\")\n",
    "plt.xticks(rotation=90)\n",
    "plt.axhline(0, color='k')"
   ]
  },
  {
   "cell_type": "code",
   "execution_count": null,
   "metadata": {},
   "outputs": [],
   "source": []
  }
 ],
 "metadata": {
  "kernelspec": {
   "display_name": "Python 3",
   "language": "python",
   "name": "python3"
  },
  "language_info": {
   "codemirror_mode": {
    "name": "ipython",
    "version": 3
   },
   "file_extension": ".py",
   "mimetype": "text/x-python",
   "name": "python",
   "nbconvert_exporter": "python",
   "pygments_lexer": "ipython3",
   "version": "3.7.4"
  }
 },
 "nbformat": 4,
 "nbformat_minor": 2
}
